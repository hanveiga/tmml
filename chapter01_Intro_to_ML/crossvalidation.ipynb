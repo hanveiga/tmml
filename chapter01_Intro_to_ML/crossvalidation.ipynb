{
 "cells": [
  {
   "cell_type": "code",
   "execution_count": null,
   "metadata": {},
   "outputs": [],
   "source": [
    "import numpy as np\n",
    "from sklearn.model_selection import train_test_split, KFold\n",
    "from sklearn import datasets, linear_model\n",
    "from sklearn.metrics import mean_squared_error\n",
    "\n",
    "# Load generic dataset for regression\n",
    "X, y = datasets.load_diabetes(return_X_y=True)\n",
    "\n",
    "# Create hold-out test set\n",
    "X_train, X_test, y_train, y_test = train_test_split(X, y, test_size=0.2, random_state=0)\n",
    "\n",
    "# Create two hypothesis classes\n",
    "hypothesis_classes = { \"Model1\": linear_model.Lasso,\\\n",
    "                       \"Model2\": linear_model.Ridge}\n",
    "\n",
    "hypothesis_performance = {}\n",
    "\n",
    "kf = KFold(n_splits=5)\n",
    "\n",
    "for key in hypothesis_classes.keys():\n",
    "  fold_performances = []\n",
    "  for train, val in kf.split(X_train):\n",
    "    # Create linear regression model\n",
    "    regressor = hypothesis_classes[key]()\n",
    "\n",
    "    # Train the model using the K-1 folds\n",
    "    regressor.fit(X_train[train,:], y_train[train])\n",
    "\n",
    "    # Evaluate performance on K-th fold\n",
    "    y_pred = regressor.predict(X_train[val,:])\n",
    "\n",
    "    # Measure loss with mean squared error (MSE)\n",
    "    fold_performances.append(mean_squared_error(y_train[val], y_pred))\n",
    "\n",
    "  hypothesis_performance[key] = np.mean(fold_performances)\n",
    "\n",
    "# Choose model with lowest MSE and retrain\n",
    "best_model_key = min(hypothesis_performance, key=hypothesis_performance.get)\n",
    "best_regressor = hypothesis_classes[best_model_key]()\n",
    "best_regressor.fit(X_train, y_train)\n",
    "y_test_pred = best_regressor.predict(X_test)\n",
    "print(f\"MSE: {mean_squared_error(y_test, y_test_pred)}\")"
   ]
  }
 ],
 "metadata": {
  "language_info": {
   "name": "python"
  },
  "orig_nbformat": 4
 },
 "nbformat": 4,
 "nbformat_minor": 2
}
