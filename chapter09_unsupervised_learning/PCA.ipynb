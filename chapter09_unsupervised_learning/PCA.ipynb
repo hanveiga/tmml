{
 "cells": [
  {
   "cell_type": "code",
   "execution_count": 467,
   "metadata": {},
   "outputs": [
    {
     "name": "stdout",
     "output_type": "stream",
     "text": [
      "[[-0.04109253  0.99915535]\n",
      " [ 0.99915535  0.04109253]]\n",
      "[[-0.23357555  0.97233866]\n",
      " [-0.97233866 -0.23357555]]\n",
      "[[-0.23357555  0.97233866]\n",
      " [ 0.97233866  0.23357555]]\n",
      "[[-0.70710678  0.70710678]\n",
      " [-0.70710678 -0.70710678]]\n",
      "[[-0.70710678  0.70710678]\n",
      " [ 0.70710678  0.70710678]]\n"
     ]
    }
   ],
   "source": [
    "import scipy.io\n",
    "import matplotlib.pyplot as plt\n",
    "import numpy as np\n",
    "from sklearn.decomposition import PCA\n",
    "from sklearn.preprocessing import StandardScaler\n",
    "\n",
    "X1 = np.linspace(0,2,10)-0.5\n",
    "X2 = -3.5*X1 + np.random.normal(0,1.0,size=(10))+4\n",
    "data_matrix = np.stack((X1,X2),axis=1)\n",
    "U,S,Vh = np.linalg.svd(np.transpose(data_matrix))\n",
    "print(U)\n",
    "\n",
    "data_matrix_centered = data_matrix.copy()\n",
    "data_matrix_centered -=np.mean(data_matrix,axis=0)\n",
    "pca_centered = PCA(n_components=2) #PCA method centers the data\n",
    "pca_centered.fit(data_matrix_centered)\n",
    "Uc,S,Vh = np.linalg.svd(np.transpose(data_matrix_centered))\n",
    "\n",
    "scaler = StandardScaler()\n",
    "data_matrix_standardised = scaler.fit_transform(data_matrix)\n",
    "pca_scaled = PCA(n_components=2)\n",
    "pca_scaled.fit(data_matrix_standardised)\n",
    "Us,S,Vh = np.linalg.svd(np.transpose(data_matrix_standardised))"
   ]
  },
  {
   "cell_type": "code",
   "execution_count": 471,
   "metadata": {},
   "outputs": [
    {
     "data": {
      "image/png": "[encoded data removed]",
      "text/plain": [
       "<Figure size 864x288 with 3 Axes>"
      ]
     },
     "metadata": {
      "needs_background": "light"
     },
     "output_type": "display_data"
    }
   ],
   "source": [
    "rc = {\"xtick.direction\" : \"inout\", \"ytick.direction\" : \"inout\",\n",
    "      \"xtick.major.size\" : 5, \"ytick.major.size\" : 5,}\n",
    "with plt.rc_context(rc):\n",
    "    fig, ax = plt.subplots(1,3,figsize=(12,4))\n",
    "    \n",
    "    for i in range(3):\n",
    "        ax[i].spines['left'].set_position('zero')\n",
    "        ax[i].spines['right'].set_visible(False)\n",
    "        ax[i].spines['bottom'].set_position('zero')\n",
    "        ax[i].spines['top'].set_visible(False)\n",
    "        ax[i].xaxis.set_ticks_position('bottom')\n",
    "        ax[i].yaxis.set_ticks_position('left')\n",
    "        ax[i].set_xlim([-2,2])\n",
    "        ax[i].set_aspect('equal', adjustable='box')\n",
    "        ax[i].set_aspect('equal', adjustable='box')\n",
    "        \n",
    "    ax[0].plot(data_matrix[:,0],data_matrix[:,1],marker='o',ls='None',alpha=0.5)\n",
    "    origin = np.array([[0, 0],[0, 0]]) # origin point\n",
    "    ax[0].plot([0,0.5*S[0]*U[0,0]],[0,S[0]*U[0,1]],marker=\"x\",alpha=0.5,color='red')\n",
    "    ax[0].plot([0,0.5*S[1]*U[1,0]],[0,S[1]*U[1,1]],marker=\"x\",alpha=0.5,color='red')\n",
    "      \n",
    "    ax[1].plot(data_matrix_centered[:,0],data_matrix_centered[:,1],marker='o',ls='None',alpha=0.5)\n",
    "    origin = np.array([[0, 0],[0, 0]]) # origin point\n",
    "    ax[1].plot([0,0.5*pca_centered.singular_values_[0]*pca_centered.components_[0,0]],\\\n",
    "               [0,0.5*pca_centered.singular_values_[0]*pca_centered.components_[0,1]],marker=\"x\",alpha=0.5,color='red')\n",
    "    ax[1].plot([0,0.5*pca_centered.singular_values_[1]*pca_centered.components_[1,0]],\\\n",
    "               [0,0.5*pca_centered.singular_values_[1]*pca_centered.components_[1,1]],marker=\"x\",alpha=0.5,color='red')\n",
    "    \n",
    "    ax[2].plot(data_matrix_standardised[:,0],data_matrix_standardised[:,1],marker='o',ls='None',alpha=0.5)\n",
    "    origin = np.array([[0, 0],[0, 0]]) # origin point\n",
    "    ax[2].plot([0,0.5*pca_scaled.singular_values_[0]*pca_scaled.components_[0,0]],\\\n",
    "               [0,0.5*pca_scaled.singular_values_[0]*pca_scaled.components_[0,1]],marker=\"x\",alpha=0.5,color='red')\n",
    "    ax[2].plot([0,0.5*pca_scaled.singular_values_[1]*pca_scaled.components_[1,0]],\\\n",
    "               [0,0.5*pca_scaled.singular_values_[1]*pca_scaled.components_[1,1]],marker=\"x\",alpha=0.5,color='red')\n",
    "    \n",
    "    \n",
    "    plt.savefig(\"PCA_centered.pdf\", bbox_inches='tight')"
   ]
  }
 ],
 "metadata": {
  "kernelspec": {
   "display_name": "Python 3",
   "language": "python",
   "name": "python3"
  },
  "language_info": {
   "codemirror_mode": {
    "name": "ipython",
    "version": 3
   },
   "file_extension": ".py",
   "mimetype": "text/x-python",
   "name": "python",
   "nbconvert_exporter": "python",
   "pygments_lexer": "ipython3",
   "version": "3.8.3"
  }
 },
 "nbformat": 4,
 "nbformat_minor": 4
}
