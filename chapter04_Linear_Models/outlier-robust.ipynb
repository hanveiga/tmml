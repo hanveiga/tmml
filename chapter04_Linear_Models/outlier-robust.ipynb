{
 "cells": [
  {
   "cell_type": "code",
   "execution_count": null,
   "metadata": {},
   "outputs": [],
   "source": [
    "from scipy.optimize import minimize\n",
    "import numpy as np\n",
    "from matplotlib import pyplot as plt\n",
    "\n",
    "def fit(X, params):\n",
    "    return X.dot(params)\n",
    "\n",
    "def l1_loss_function(params, X, y):\n",
    "    return np.sum(np.abs(y - fit(X, params)))\n",
    "  \n",
    "def l2_loss_function(params, X, y):\n",
    "    return np.sum(np.square(y - fit(X, params)))\n",
    "\n",
    "def generate_data(n=10):\n",
    "  X = np.asarray([np.ones((n,)), np.arange(0, n)]).T\n",
    "  y = 10 + 5 * np.arange(0, n) + 25 * np.random.random((n,))\n",
    "  y[-1]= 500\n",
    "  return X,y\n",
    "\n",
    "X,y = generate_data()\n",
    "\n",
    "x0 = np.zeros(X.shape[1])\n",
    "output_l1 = minimize(l1_loss_function, x0, args=(X, y))\n",
    "output_l2 = minimize(l2_loss_function, x0, args=(X, y))\n",
    "\n",
    "y_hat_l1 = fit(X, output_l1.x)\n",
    "y_hat_l2 = fit(X, output_l2.x)\n",
    "\n",
    "fig = plt.figure()\n",
    "ax = plt.axes()\n",
    "\n",
    "ax.plot(y, 'o', color='black')\n",
    "ax.plot(y_hat_l1, '.', color='purple',ls='--',label='absolute error loss')\n",
    "ax.plot(y_hat_l2, '.', color='blue',ls='--',label='squared error loss')\n",
    "plt.title('Outlier robustness')\n",
    "plt.legend()\n",
    "plt.show()"
   ]
  }
 ],
 "metadata": {
  "language_info": {
   "name": "python"
  },
  "orig_nbformat": 4
 },
 "nbformat": 4,
 "nbformat_minor": 2
}
